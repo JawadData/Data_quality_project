{
 "cells": [
  {
   "cell_type": "markdown",
   "id": "40fa410e-9e4c-409e-a179-ae2f575ee851",
   "metadata": {},
   "source": [
    "### chargement et transformation des tables"
   ]
  },
  {
   "cell_type": "code",
   "execution_count": null,
   "id": "5a79ca33",
   "metadata": {},
   "outputs": [],
   "source": [
    "import pandas as pd\n",
    "from datetime import datetime\n",
    "from sqlalchemy import create_engine\n",
    "\n",
    "\n",
    "aujourdhui = datetime.now()\n",
    "date_controle = aujourdhui.strftime('%d-%m-%y')\n",
    "\n",
    "\n",
    "user = 'airflow'\n",
    "password = 'airflow'\n",
    "host = 'postgres'\n",
    "port = '5432'  \n",
    "database_bronze = 'bronze'\n",
    "database_silver = 'silver'\n",
    "\n",
    "db_url_bronze = f\"postgresql://{user}:{password}@{host}:{port}/{database_bronze}\"\n",
    "engine_bronze = create_engine(db_url_bronze)\n",
    "\n",
    "db_url_silver = f\"postgresql://{user}:{password}@{host}:{port}/{database_silver}\"\n",
    "engine_silver= create_engine(db_url_silver)\n",
    "\n",
    "df_clients = pd.read_sql(\"SELECT * FROM clients\", con=engine_bronze)\n",
    "df_controles = pd.read_sql(\"SELECT * FROM controles\", con=engine_silver)\n"
   ]
  },
  {
   "cell_type": "code",
   "execution_count": 2,
   "id": "53c27f01-0e17-4549-9eed-85e3de97e4c6",
   "metadata": {},
   "outputs": [
    {
     "name": "stdout",
     "output_type": "stream",
     "text": [
      "<class 'pandas.core.frame.DataFrame'>\n",
      "RangeIndex: 10000 entries, 0 to 9999\n",
      "Data columns (total 10 columns):\n",
      " #   Column             Non-Null Count  Dtype \n",
      "---  ------             --------------  ----- \n",
      " 0   ID_CLIENT          10000 non-null  object\n",
      " 1   NOM                9000 non-null   object\n",
      " 2   PRENOM             9000 non-null   object\n",
      " 3   CIN                9000 non-null   object\n",
      " 4   CARTE_SEJOUR       9000 non-null   object\n",
      " 5   VILLE              9000 non-null   object\n",
      " 6   NATIONALITE        10000 non-null  object\n",
      " 7   TELEPHONE          9000 non-null   object\n",
      " 8   id_intermediaire   10000 non-null  int64 \n",
      " 9   DATE_CREATION      10000 non-null  object\n",
      "dtypes: int64(1), object(9)\n",
      "memory usage: 781.4+ KB\n"
     ]
    }
   ],
   "source": [
    "df_clients.info()"
   ]
  },
  {
   "cell_type": "code",
   "execution_count": 206,
   "id": "a30b1e6f-139d-4d3c-8709-75999540f082",
   "metadata": {},
   "outputs": [
    {
     "data": {
      "text/html": [
       "<div>\n",
       "<style scoped>\n",
       "    .dataframe tbody tr th:only-of-type {\n",
       "        vertical-align: middle;\n",
       "    }\n",
       "\n",
       "    .dataframe tbody tr th {\n",
       "        vertical-align: top;\n",
       "    }\n",
       "\n",
       "    .dataframe thead th {\n",
       "        text-align: right;\n",
       "    }\n",
       "</style>\n",
       "<table border=\"1\" class=\"dataframe\">\n",
       "  <thead>\n",
       "    <tr style=\"text-align: right;\">\n",
       "      <th></th>\n",
       "      <th>ID_CLIENT</th>\n",
       "      <th>NOM</th>\n",
       "      <th>PRENOM</th>\n",
       "      <th>CIN</th>\n",
       "      <th>CARTE_SEJOUR</th>\n",
       "      <th>VILLE</th>\n",
       "      <th>NATIONALITE</th>\n",
       "      <th>TELEPHONE</th>\n",
       "      <th>id_intermediaire</th>\n",
       "      <th>DATE_CREATION</th>\n",
       "    </tr>\n",
       "  </thead>\n",
       "  <tbody>\n",
       "    <tr>\n",
       "      <th>0</th>\n",
       "      <td>lu1cldwMLx</td>\n",
       "      <td>Hicks</td>\n",
       "      <td>Dawn</td>\n",
       "      <td>SJ109379</td>\n",
       "      <td>OL118027</td>\n",
       "      <td>None</td>\n",
       "      <td>mre</td>\n",
       "      <td>800-778-8075x457</td>\n",
       "      <td>84</td>\n",
       "      <td>2021-05-14</td>\n",
       "    </tr>\n",
       "    <tr>\n",
       "      <th>1</th>\n",
       "      <td>k8N4sn4YJb</td>\n",
       "      <td>Wolfe</td>\n",
       "      <td>Kimberly</td>\n",
       "      <td>B136474</td>\n",
       "      <td>O499923</td>\n",
       "      <td>North Alishaport</td>\n",
       "      <td>mre</td>\n",
       "      <td>+1-913-505-2118x425</td>\n",
       "      <td>15</td>\n",
       "      <td>2024-03-27</td>\n",
       "    </tr>\n",
       "    <tr>\n",
       "      <th>2</th>\n",
       "      <td>6qzPbzht3H</td>\n",
       "      <td>Burch</td>\n",
       "      <td>Isabel3@</td>\n",
       "      <td>KX010301</td>\n",
       "      <td>HM264290</td>\n",
       "      <td>North Eric`</td>\n",
       "      <td>mre</td>\n",
       "      <td>935-921-5809</td>\n",
       "      <td>13</td>\n",
       "      <td>2021-07-16</td>\n",
       "    </tr>\n",
       "    <tr>\n",
       "      <th>3</th>\n",
       "      <td>KZPbHdxc1a</td>\n",
       "      <td>None</td>\n",
       "      <td>Matthew</td>\n",
       "      <td>YT977001</td>\n",
       "      <td>OI901480</td>\n",
       "      <td>South Kenneth</td>\n",
       "      <td>etranger</td>\n",
       "      <td>4332103507</td>\n",
       "      <td>2</td>\n",
       "      <td>2023-02-25</td>\n",
       "    </tr>\n",
       "    <tr>\n",
       "      <th>4</th>\n",
       "      <td>3KaFE6Zhq9</td>\n",
       "      <td>Roth=#</td>\n",
       "      <td>None</td>\n",
       "      <td>EB353024</td>\n",
       "      <td>B240907</td>\n",
       "      <td>None</td>\n",
       "      <td>marocain</td>\n",
       "      <td>001-367-758-8791</td>\n",
       "      <td>91</td>\n",
       "      <td>2021-01-03</td>\n",
       "    </tr>\n",
       "  </tbody>\n",
       "</table>\n",
       "</div>"
      ],
      "text/plain": [
       "    ID_CLIENT     NOM    PRENOM       CIN CARTE_SEJOUR             VILLE  \\\n",
       "0  lu1cldwMLx   Hicks      Dawn  SJ109379     OL118027              None   \n",
       "1  k8N4sn4YJb   Wolfe  Kimberly   B136474      O499923  North Alishaport   \n",
       "2  6qzPbzht3H   Burch  Isabel3@  KX010301     HM264290       North Eric`   \n",
       "3  KZPbHdxc1a    None   Matthew  YT977001     OI901480     South Kenneth   \n",
       "4  3KaFE6Zhq9  Roth=#      None  EB353024      B240907              None   \n",
       "\n",
       "  NATIONALITE            TELEPHONE  id_intermediaire  DATE_CREATION  \n",
       "0         mre     800-778-8075x457                 84    2021-05-14  \n",
       "1         mre  +1-913-505-2118x425                 15    2024-03-27  \n",
       "2         mre         935-921-5809                 13    2021-07-16  \n",
       "3    etranger           4332103507                  2    2023-02-25  \n",
       "4    marocain     001-367-758-8791                 91    2021-01-03  "
      ]
     },
     "execution_count": 206,
     "metadata": {},
     "output_type": "execute_result"
    }
   ],
   "source": [
    "df_clients.head()"
   ]
  },
  {
   "cell_type": "code",
   "execution_count": 207,
   "id": "9dccfee0-b292-45aa-9b1f-b32a49bd5bab",
   "metadata": {},
   "outputs": [
    {
     "data": {
      "text/html": [
       "<div>\n",
       "<style scoped>\n",
       "    .dataframe tbody tr th:only-of-type {\n",
       "        vertical-align: middle;\n",
       "    }\n",
       "\n",
       "    .dataframe tbody tr th {\n",
       "        vertical-align: top;\n",
       "    }\n",
       "\n",
       "    .dataframe thead th {\n",
       "        text-align: right;\n",
       "    }\n",
       "</style>\n",
       "<table border=\"1\" class=\"dataframe\">\n",
       "  <thead>\n",
       "    <tr style=\"text-align: right;\">\n",
       "      <th></th>\n",
       "      <th>ID_CONTROLE</th>\n",
       "      <th>DATA</th>\n",
       "      <th>DIM_CONTROLE</th>\n",
       "      <th>DATE_CONTROLE</th>\n",
       "    </tr>\n",
       "  </thead>\n",
       "  <tbody>\n",
       "  </tbody>\n",
       "</table>\n",
       "</div>"
      ],
      "text/plain": [
       "Empty DataFrame\n",
       "Columns: [ID_CONTROLE, DATA, DIM_CONTROLE, DATE_CONTROLE]\n",
       "Index: []"
      ]
     },
     "execution_count": 207,
     "metadata": {},
     "output_type": "execute_result"
    }
   ],
   "source": [
    "df_controles.head()"
   ]
  },
  {
   "cell_type": "markdown",
   "id": "44cf6cc7-f091-4f9c-8edc-da32e9b3dd3a",
   "metadata": {},
   "source": [
    "### table resultat completude de la colonne nom"
   ]
  },
  {
   "cell_type": "code",
   "execution_count": null,
   "id": "f74dc36d-c68b-41fb-9b58-59bbd7418b88",
   "metadata": {},
   "outputs": [],
   "source": [
    "df_comp_nom = df_clients[['id_client']].copy()\n",
    "df_comp_nom['result'] = df_clients['nom'].notnull().astype(int) \n",
    "\n",
    "if df_controles.empty:\n",
    "    df_comp_nom['id_controle'] = 1 \n",
    "else:\n",
    "    max_id = df_controles['id_controle'].max()\n",
    "    df_comp_nom['id_controle'] = max_id + 1 \n"
   ]
  },
  {
   "cell_type": "code",
   "execution_count": 209,
   "id": "a4dd38d8-1a67-4e5e-a5a9-8f3baa454223",
   "metadata": {},
   "outputs": [
    {
     "data": {
      "text/html": [
       "<div>\n",
       "<style scoped>\n",
       "    .dataframe tbody tr th:only-of-type {\n",
       "        vertical-align: middle;\n",
       "    }\n",
       "\n",
       "    .dataframe tbody tr th {\n",
       "        vertical-align: top;\n",
       "    }\n",
       "\n",
       "    .dataframe thead th {\n",
       "        text-align: right;\n",
       "    }\n",
       "</style>\n",
       "<table border=\"1\" class=\"dataframe\">\n",
       "  <thead>\n",
       "    <tr style=\"text-align: right;\">\n",
       "      <th></th>\n",
       "      <th>ID_CLIENT</th>\n",
       "      <th>RESULT</th>\n",
       "      <th>ID_CONTROLE</th>\n",
       "    </tr>\n",
       "  </thead>\n",
       "  <tbody>\n",
       "    <tr>\n",
       "      <th>0</th>\n",
       "      <td>lu1cldwMLx</td>\n",
       "      <td>1</td>\n",
       "      <td>1</td>\n",
       "    </tr>\n",
       "    <tr>\n",
       "      <th>1</th>\n",
       "      <td>k8N4sn4YJb</td>\n",
       "      <td>1</td>\n",
       "      <td>1</td>\n",
       "    </tr>\n",
       "    <tr>\n",
       "      <th>2</th>\n",
       "      <td>6qzPbzht3H</td>\n",
       "      <td>1</td>\n",
       "      <td>1</td>\n",
       "    </tr>\n",
       "    <tr>\n",
       "      <th>3</th>\n",
       "      <td>KZPbHdxc1a</td>\n",
       "      <td>0</td>\n",
       "      <td>1</td>\n",
       "    </tr>\n",
       "    <tr>\n",
       "      <th>4</th>\n",
       "      <td>3KaFE6Zhq9</td>\n",
       "      <td>1</td>\n",
       "      <td>1</td>\n",
       "    </tr>\n",
       "  </tbody>\n",
       "</table>\n",
       "</div>"
      ],
      "text/plain": [
       "    ID_CLIENT  RESULT  ID_CONTROLE\n",
       "0  lu1cldwMLx       1            1\n",
       "1  k8N4sn4YJb       1            1\n",
       "2  6qzPbzht3H       1            1\n",
       "3  KZPbHdxc1a       0            1\n",
       "4  3KaFE6Zhq9       1            1"
      ]
     },
     "execution_count": 209,
     "metadata": {},
     "output_type": "execute_result"
    }
   ],
   "source": [
    "df_comp_nom.head()"
   ]
  },
  {
   "cell_type": "code",
   "execution_count": null,
   "id": "4a157d5c-96e9-4218-89c8-1a0e5331757f",
   "metadata": {},
   "outputs": [],
   "source": [
    "df_comp_nom.to_sql('df_comp_nom', con=engine_silver, if_exists='replace', index=False)"
   ]
  },
  {
   "cell_type": "markdown",
   "id": "5733b103-0bfb-4463-abb0-bb8b53a308a6",
   "metadata": {},
   "source": [
    "### remplissage de la table des controles"
   ]
  },
  {
   "cell_type": "code",
   "execution_count": null,
   "id": "e0eef835-25be-4731-a2bf-b6a6958f04b1",
   "metadata": {},
   "outputs": [],
   "source": [
    "id_controle = df_comp_nom['id_controle'].iloc[0] \n",
    "data = \"nom\"\n",
    "dim_controle = \"completude\"\n",
    "\n",
    "nouvelles_lignes = [[id_controle, data, dim_controle, date_controle]]\n",
    "nouvelle_ligne_df = pd.DataFrame(nouvelles_lignes, columns=['id_controle', 'data', 'dim_controle', 'date_controle'])\n",
    "df_controles = pd.concat([df_controles, nouvelle_ligne_df], ignore_index=True)"
   ]
  },
  {
   "cell_type": "code",
   "execution_count": 212,
   "id": "caf0ebdb-7d20-4e30-b84c-aca0a38e1d85",
   "metadata": {},
   "outputs": [
    {
     "data": {
      "text/html": [
       "<div>\n",
       "<style scoped>\n",
       "    .dataframe tbody tr th:only-of-type {\n",
       "        vertical-align: middle;\n",
       "    }\n",
       "\n",
       "    .dataframe tbody tr th {\n",
       "        vertical-align: top;\n",
       "    }\n",
       "\n",
       "    .dataframe thead th {\n",
       "        text-align: right;\n",
       "    }\n",
       "</style>\n",
       "<table border=\"1\" class=\"dataframe\">\n",
       "  <thead>\n",
       "    <tr style=\"text-align: right;\">\n",
       "      <th></th>\n",
       "      <th>ID_CONTROLE</th>\n",
       "      <th>DATA</th>\n",
       "      <th>DIM_CONTROLE</th>\n",
       "      <th>DATE_CONTROLE</th>\n",
       "    </tr>\n",
       "  </thead>\n",
       "  <tbody>\n",
       "    <tr>\n",
       "      <th>0</th>\n",
       "      <td>1.0</td>\n",
       "      <td>NOM</td>\n",
       "      <td>COMPLETUDE</td>\n",
       "      <td>23-10-24</td>\n",
       "    </tr>\n",
       "  </tbody>\n",
       "</table>\n",
       "</div>"
      ],
      "text/plain": [
       "   ID_CONTROLE DATA DIM_CONTROLE DATE_CONTROLE\n",
       "0          1.0  NOM   COMPLETUDE      23-10-24"
      ]
     },
     "execution_count": 212,
     "metadata": {},
     "output_type": "execute_result"
    }
   ],
   "source": [
    "df_controles.head()"
   ]
  },
  {
   "cell_type": "markdown",
   "id": "1519b8d1-cde4-43c2-9d99-5be761e396cf",
   "metadata": {},
   "source": [
    "### table resultat completude de la colonne pernom"
   ]
  },
  {
   "cell_type": "code",
   "execution_count": null,
   "id": "b47eb63a-9acb-438e-8e37-69181bf37800",
   "metadata": {},
   "outputs": [],
   "source": [
    "df_comp_prenom = df_clients[['id_client']].copy()\n",
    "df_comp_prenom['result'] = df_clients['prenom'].notnull().astype(int) \n",
    "max_id = df_controles['id_controle'].max()\n",
    "df_comp_prenom['id_controle'] = max_id + 1\n"
   ]
  },
  {
   "cell_type": "code",
   "execution_count": null,
   "id": "b1c7dfa1-0216-47c4-beab-b07cce68a2ed",
   "metadata": {},
   "outputs": [],
   "source": [
    "\n",
    "df_comp_prenom.to_sql('df_comp_prenom', con=engine_silver, if_exists='replace', index=False)"
   ]
  },
  {
   "cell_type": "markdown",
   "id": "b2058a81-dc3e-4fd2-9b13-051d4d5dcf22",
   "metadata": {},
   "source": [
    "### remplissage de la table des controles"
   ]
  },
  {
   "cell_type": "code",
   "execution_count": null,
   "id": "9b832fab-37e3-49d2-ade3-f3e8594092ae",
   "metadata": {},
   "outputs": [],
   "source": [
    "id_controle = df_controles['id_controle'].max() + 1\n",
    "data = \"prenom\"\n",
    "dim_controle = \"completude\"\n",
    "\n",
    "nouvelles_lignes = [[id_controle, data, dim_controle, date_controle]]\n",
    "nouvelle_ligne_df = pd.DataFrame(nouvelles_lignes, columns=['id_controle', 'data', 'dim_controle', 'date_controle'])\n",
    "df_controles = pd.concat([df_controles, nouvelle_ligne_df], ignore_index=True)"
   ]
  },
  {
   "cell_type": "markdown",
   "id": "bcec2a0f-e3f3-4b89-9bda-3712b85f786d",
   "metadata": {},
   "source": [
    "### table resultat completude de la colonne cin"
   ]
  },
  {
   "cell_type": "code",
   "execution_count": null,
   "id": "f2655fa7-e0bd-4b86-b2e1-d8527959e2d9",
   "metadata": {},
   "outputs": [],
   "source": [
    "df_comp_cin = df_clients[['id_client']].copy()\n",
    "df_comp_cin['result'] = df_clients['cin'].notnull().astype(int) \n",
    "max_id = df_controles['id_controle'].max()\n",
    "df_comp_cin['id_controle'] = max_id + 1\n"
   ]
  },
  {
   "cell_type": "code",
   "execution_count": null,
   "id": "6504c4e7-d6ff-4603-9a28-f81217fbb9be",
   "metadata": {},
   "outputs": [],
   "source": [
    "\n",
    "df_comp_cin.to_sql('df_comp_cin', con=engine_silver, if_exists='replace', index=False)"
   ]
  },
  {
   "cell_type": "markdown",
   "id": "f84dea7b-2c67-4c48-9b63-5d62830f2470",
   "metadata": {},
   "source": [
    "### remplissage de la table des controles"
   ]
  },
  {
   "cell_type": "code",
   "execution_count": null,
   "id": "ea6834d2-f6ef-40d8-ba4d-eca1b84ed87e",
   "metadata": {},
   "outputs": [],
   "source": [
    "id_controle = df_controles['id_controle'].max() + 1\n",
    "data = \"cin\"\n",
    "dim_controle = \"completude\"\n",
    "\n",
    "nouvelles_lignes = [[id_controle, data, dim_controle, date_controle]]\n",
    "nouvelle_ligne_df = pd.DataFrame(nouvelles_lignes, columns=['id_controle', 'data', 'dim_controle', 'date_controle'])\n",
    "df_controles = pd.concat([df_controles, nouvelle_ligne_df], ignore_index=True)"
   ]
  },
  {
   "cell_type": "markdown",
   "id": "15580cdf-3482-44b4-9005-acda00448236",
   "metadata": {},
   "source": [
    "### table resultat completude de la colonne carte sejour"
   ]
  },
  {
   "cell_type": "code",
   "execution_count": null,
   "id": "6100c9d9-7d23-495a-8b43-0d411a29c766",
   "metadata": {},
   "outputs": [],
   "source": [
    "df_comp_carte_sejour = df_clients[['id_client']].copy()\n",
    "df_comp_carte_sejour['result'] = df_clients['carte_sejour'].notnull().astype(int) \n",
    "max_id = df_controles['id_controle'].max()\n",
    "df_comp_carte_sejour['id_controle'] = max_id + 1\n"
   ]
  },
  {
   "cell_type": "code",
   "execution_count": null,
   "id": "4940d562-9779-425b-91b5-02461d5c9f0f",
   "metadata": {},
   "outputs": [],
   "source": [
    "df_comp_carte_sejour.to_sql('df_comp_carte_sejour', con=engine_silver, if_exists='replace', index=False)"
   ]
  },
  {
   "cell_type": "markdown",
   "id": "e28631b0-c57e-4080-8f2e-37d2c98c0d00",
   "metadata": {},
   "source": [
    "### remplissage de la table des controles"
   ]
  },
  {
   "cell_type": "code",
   "execution_count": null,
   "id": "09ef0297-983f-4f91-9ef8-317ca827fde5",
   "metadata": {},
   "outputs": [],
   "source": [
    "id_controle = df_controles['id_controle'].max() + 1\n",
    "data = \"carte_sejour\"\n",
    "dim_controle = \"completude\"\n",
    "\n",
    "nouvelles_lignes = [[id_controle, data, dim_controle, date_controle]]\n",
    "nouvelle_ligne_df = pd.DataFrame(nouvelles_lignes, columns=['id_controle', 'data', 'dim_controle', 'date_controle'])\n",
    "df_controles = pd.concat([df_controles, nouvelle_ligne_df], ignore_index=True)"
   ]
  },
  {
   "cell_type": "markdown",
   "id": "808f7bd4-484f-4ef0-98d1-943d8430cd18",
   "metadata": {},
   "source": [
    "### table resultat completude de la colonne ville"
   ]
  },
  {
   "cell_type": "code",
   "execution_count": null,
   "id": "10f94af4-7f22-4930-8a4d-7392531e7626",
   "metadata": {},
   "outputs": [],
   "source": [
    "df_comp_ville = df_clients[['id_client']].copy()\n",
    "df_comp_ville['result'] = df_clients['ville'].notnull().astype(int) \n",
    "max_id = df_controles['id_controle'].max()\n",
    "df_comp_ville['id_controle'] = max_id + 1\n"
   ]
  },
  {
   "cell_type": "code",
   "execution_count": null,
   "id": "89b49951-fac8-4e2f-b16e-c17f58e4b19d",
   "metadata": {},
   "outputs": [],
   "source": [
    "df_comp_ville.to_sql('df_comp_ville', con=engine_silver, if_exists='replace', index=False)\n"
   ]
  },
  {
   "cell_type": "markdown",
   "id": "522a22a7-0ee6-480f-b64b-711c4fef3cb3",
   "metadata": {},
   "source": [
    "### remplissage de la table des controles"
   ]
  },
  {
   "cell_type": "code",
   "execution_count": null,
   "id": "9dbf11b5-1e0b-4d6f-b6c5-d91a60416c98",
   "metadata": {},
   "outputs": [],
   "source": [
    "id_controle = df_controles['id_controle'].max() + 1\n",
    "data = \"ville\"\n",
    "dim_controle = \"completude\"\n",
    "\n",
    "nouvelles_lignes = [[id_controle, data, dim_controle, date_controle]]\n",
    "nouvelle_ligne_df = pd.DataFrame(nouvelles_lignes, columns=['id_controle', 'data', 'dim_controle', 'date_controle'])\n",
    "df_controles = pd.concat([df_controles, nouvelle_ligne_df], ignore_index=True)"
   ]
  },
  {
   "cell_type": "markdown",
   "id": "19aad16d-e9ff-432b-afde-eaa3da5f622a",
   "metadata": {},
   "source": [
    "### table resultat completude de la colonne telephone"
   ]
  },
  {
   "cell_type": "code",
   "execution_count": null,
   "id": "32b8313a-c50c-4f14-a6a7-41d659fa7659",
   "metadata": {},
   "outputs": [],
   "source": [
    "df_comp_telephone = df_clients[['id_client']].copy()\n",
    "df_comp_telephone['result'] = df_clients['telephone'].notnull().astype(int) \n",
    "max_id = df_controles['id_controle'].max()\n",
    "df_comp_telephone['id_controle'] = max_id + 1\n"
   ]
  },
  {
   "cell_type": "code",
   "execution_count": null,
   "id": "7dafafef-d9b1-4c09-9041-61bf9bb0ac4f",
   "metadata": {},
   "outputs": [],
   "source": [
    "\n",
    "df_comp_telephone.to_sql('df_comp_telephone', con=engine_silver, if_exists='replace', index=False)\n"
   ]
  },
  {
   "cell_type": "markdown",
   "id": "4796b6c9-5207-4628-a31f-e194049968d7",
   "metadata": {},
   "source": [
    "### remplissage de la table des controles"
   ]
  },
  {
   "cell_type": "code",
   "execution_count": null,
   "id": "c0417da0-dcf0-4ecb-b43b-2da96db8df56",
   "metadata": {},
   "outputs": [],
   "source": [
    "id_controle = df_controles['id_controle'].max() + 1\n",
    "data = \"telephone\"\n",
    "dim_controle = \"completude\"\n",
    "\n",
    "nouvelles_lignes = [[id_controle, data, dim_controle, date_controle]]\n",
    "nouvelle_ligne_df = pd.DataFrame(nouvelles_lignes, columns=['id_controle', 'data', 'dim_controle', 'date_controle'])\n",
    "df_controles = pd.concat([df_controles, nouvelle_ligne_df], ignore_index=True)"
   ]
  },
  {
   "cell_type": "code",
   "execution_count": null,
   "id": "59a192ca-2ead-4774-b3f7-7caf612c896c",
   "metadata": {},
   "outputs": [],
   "source": [
    "df_controles.to_sql('controles', con=engine_silver, if_exists='append', index=False)"
   ]
  },
  {
   "cell_type": "code",
   "execution_count": 229,
   "id": "47555c20-ae32-437b-aed8-5d4ef3968a50",
   "metadata": {},
   "outputs": [
    {
     "data": {
      "text/html": [
       "<div>\n",
       "<style scoped>\n",
       "    .dataframe tbody tr th:only-of-type {\n",
       "        vertical-align: middle;\n",
       "    }\n",
       "\n",
       "    .dataframe tbody tr th {\n",
       "        vertical-align: top;\n",
       "    }\n",
       "\n",
       "    .dataframe thead th {\n",
       "        text-align: right;\n",
       "    }\n",
       "</style>\n",
       "<table border=\"1\" class=\"dataframe\">\n",
       "  <thead>\n",
       "    <tr style=\"text-align: right;\">\n",
       "      <th></th>\n",
       "      <th>ID_CONTROLE</th>\n",
       "      <th>DATA</th>\n",
       "      <th>DIM_CONTROLE</th>\n",
       "      <th>DATE_CONTROLE</th>\n",
       "    </tr>\n",
       "  </thead>\n",
       "  <tbody>\n",
       "    <tr>\n",
       "      <th>0</th>\n",
       "      <td>1.0</td>\n",
       "      <td>NOM</td>\n",
       "      <td>COMPLETUDE</td>\n",
       "      <td>23-10-24</td>\n",
       "    </tr>\n",
       "    <tr>\n",
       "      <th>1</th>\n",
       "      <td>2.0</td>\n",
       "      <td>PRENOM</td>\n",
       "      <td>COMPLETUDE</td>\n",
       "      <td>23-10-24</td>\n",
       "    </tr>\n",
       "    <tr>\n",
       "      <th>2</th>\n",
       "      <td>3.0</td>\n",
       "      <td>CIN</td>\n",
       "      <td>COMPLETUDE</td>\n",
       "      <td>23-10-24</td>\n",
       "    </tr>\n",
       "    <tr>\n",
       "      <th>3</th>\n",
       "      <td>4.0</td>\n",
       "      <td>CARTE_SEJOUR</td>\n",
       "      <td>COMPLETUDE</td>\n",
       "      <td>23-10-24</td>\n",
       "    </tr>\n",
       "    <tr>\n",
       "      <th>4</th>\n",
       "      <td>5.0</td>\n",
       "      <td>VILLE</td>\n",
       "      <td>COMPLETUDE</td>\n",
       "      <td>23-10-24</td>\n",
       "    </tr>\n",
       "    <tr>\n",
       "      <th>5</th>\n",
       "      <td>6.0</td>\n",
       "      <td>TELEPHONE</td>\n",
       "      <td>COMPLETUDE</td>\n",
       "      <td>23-10-24</td>\n",
       "    </tr>\n",
       "  </tbody>\n",
       "</table>\n",
       "</div>"
      ],
      "text/plain": [
       "   ID_CONTROLE          DATA DIM_CONTROLE DATE_CONTROLE\n",
       "0          1.0           NOM   COMPLETUDE      23-10-24\n",
       "1          2.0        PRENOM   COMPLETUDE      23-10-24\n",
       "2          3.0           CIN   COMPLETUDE      23-10-24\n",
       "3          4.0  CARTE_SEJOUR   COMPLETUDE      23-10-24\n",
       "4          5.0         VILLE   COMPLETUDE      23-10-24\n",
       "5          6.0     TELEPHONE   COMPLETUDE      23-10-24"
      ]
     },
     "execution_count": 229,
     "metadata": {},
     "output_type": "execute_result"
    }
   ],
   "source": [
    "df_controles.head(20)"
   ]
  },
  {
   "cell_type": "code",
   "execution_count": null,
   "id": "ffa73a06-ac9f-490a-923b-cb0a6c6192ff",
   "metadata": {},
   "outputs": [],
   "source": []
  }
 ],
 "metadata": {
  "kernelspec": {
   "display_name": "Python 3 (ipykernel)",
   "language": "python",
   "name": "python3"
  },
  "language_info": {
   "codemirror_mode": {
    "name": "ipython",
    "version": 3
   },
   "file_extension": ".py",
   "mimetype": "text/x-python",
   "name": "python",
   "nbconvert_exporter": "python",
   "pygments_lexer": "ipython3",
   "version": "3.11.6"
  }
 },
 "nbformat": 4,
 "nbformat_minor": 5
}
