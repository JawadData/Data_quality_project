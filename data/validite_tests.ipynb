{
 "cells": [
  {
   "cell_type": "code",
   "execution_count": null,
   "id": "a3e0f767-a265-4da1-ab07-50f2706f940e",
   "metadata": {},
   "outputs": [],
   "source": [
    "import pandas as pd\n",
    "from datetime import datetime\n",
    "from sqlalchemy import create_engine\n",
    "\n",
    "aujourdhui = datetime.now()\n",
    "date_controle = aujourdhui.strftime('%d-%m-%y')\n",
    "\n",
    "user = 'airflow'\n",
    "password = 'airflow'\n",
    "host = 'postgres'\n",
    "port = '5432'  \n",
    "database_bronze = 'bronze'\n",
    "database_silver = 'silver'\n",
    "\n",
    "db_url_bronze = f\"postgresql://{user}:{password}@{host}:{port}/{database_bronze}\"\n",
    "engine_bronze = create_engine(db_url_bronze)\n",
    "\n",
    "db_url_silver = f\"postgresql://{user}:{password}@{host}:{port}/{database_silver}\"\n",
    "engine_silver= create_engine(db_url_silver)\n",
    "\n",
    "df_clients = pd.read_sql(\"SELECT * FROM clients\", con=engine_bronze)\n",
    "df_controles = pd.read_sql(\"SELECT * FROM controles\", con=engine_silver)\n"
   ]
  },
  {
   "cell_type": "code",
   "execution_count": 17,
   "id": "a038d369-e66f-45b5-9b75-7cfefa6762b8",
   "metadata": {},
   "outputs": [
    {
     "data": {
      "text/html": [
       "<div>\n",
       "<style scoped>\n",
       "    .dataframe tbody tr th:only-of-type {\n",
       "        vertical-align: middle;\n",
       "    }\n",
       "\n",
       "    .dataframe tbody tr th {\n",
       "        vertical-align: top;\n",
       "    }\n",
       "\n",
       "    .dataframe thead th {\n",
       "        text-align: right;\n",
       "    }\n",
       "</style>\n",
       "<table border=\"1\" class=\"dataframe\">\n",
       "  <thead>\n",
       "    <tr style=\"text-align: right;\">\n",
       "      <th></th>\n",
       "      <th>ID_CLIENT</th>\n",
       "      <th>NOM</th>\n",
       "      <th>PRENOM</th>\n",
       "      <th>CIN</th>\n",
       "      <th>CARTE_SEJOUR</th>\n",
       "      <th>VILLE</th>\n",
       "      <th>NATIONALITE</th>\n",
       "      <th>TELEPHONE</th>\n",
       "      <th>id_intermediaire</th>\n",
       "      <th>DATE_CREATION</th>\n",
       "    </tr>\n",
       "  </thead>\n",
       "  <tbody>\n",
       "    <tr>\n",
       "      <th>0</th>\n",
       "      <td>lu1cldwMLx</td>\n",
       "      <td>Hicks</td>\n",
       "      <td>Dawn</td>\n",
       "      <td>SJ109379</td>\n",
       "      <td>OL118027</td>\n",
       "      <td>None</td>\n",
       "      <td>mre</td>\n",
       "      <td>800-778-8075x457</td>\n",
       "      <td>84</td>\n",
       "      <td>2021-05-14</td>\n",
       "    </tr>\n",
       "    <tr>\n",
       "      <th>1</th>\n",
       "      <td>k8N4sn4YJb</td>\n",
       "      <td>Wolfe</td>\n",
       "      <td>Kimberly</td>\n",
       "      <td>B136474</td>\n",
       "      <td>O499923</td>\n",
       "      <td>North Alishaport</td>\n",
       "      <td>mre</td>\n",
       "      <td>+1-913-505-2118x425</td>\n",
       "      <td>15</td>\n",
       "      <td>2024-03-27</td>\n",
       "    </tr>\n",
       "    <tr>\n",
       "      <th>2</th>\n",
       "      <td>6qzPbzht3H</td>\n",
       "      <td>Burch</td>\n",
       "      <td>Isabel3@</td>\n",
       "      <td>KX010301</td>\n",
       "      <td>HM264290</td>\n",
       "      <td>North Eric`</td>\n",
       "      <td>mre</td>\n",
       "      <td>935-921-5809</td>\n",
       "      <td>13</td>\n",
       "      <td>2021-07-16</td>\n",
       "    </tr>\n",
       "    <tr>\n",
       "      <th>3</th>\n",
       "      <td>KZPbHdxc1a</td>\n",
       "      <td>None</td>\n",
       "      <td>Matthew</td>\n",
       "      <td>YT977001</td>\n",
       "      <td>OI901480</td>\n",
       "      <td>South Kenneth</td>\n",
       "      <td>etranger</td>\n",
       "      <td>4332103507</td>\n",
       "      <td>2</td>\n",
       "      <td>2023-02-25</td>\n",
       "    </tr>\n",
       "    <tr>\n",
       "      <th>4</th>\n",
       "      <td>3KaFE6Zhq9</td>\n",
       "      <td>Roth=#</td>\n",
       "      <td>None</td>\n",
       "      <td>EB353024</td>\n",
       "      <td>B240907</td>\n",
       "      <td>None</td>\n",
       "      <td>marocain</td>\n",
       "      <td>001-367-758-8791</td>\n",
       "      <td>91</td>\n",
       "      <td>2021-01-03</td>\n",
       "    </tr>\n",
       "  </tbody>\n",
       "</table>\n",
       "</div>"
      ],
      "text/plain": [
       "    ID_CLIENT     NOM    PRENOM       CIN CARTE_SEJOUR             VILLE  \\\n",
       "0  lu1cldwMLx   Hicks      Dawn  SJ109379     OL118027              None   \n",
       "1  k8N4sn4YJb   Wolfe  Kimberly   B136474      O499923  North Alishaport   \n",
       "2  6qzPbzht3H   Burch  Isabel3@  KX010301     HM264290       North Eric`   \n",
       "3  KZPbHdxc1a    None   Matthew  YT977001     OI901480     South Kenneth   \n",
       "4  3KaFE6Zhq9  Roth=#      None  EB353024      B240907              None   \n",
       "\n",
       "  NATIONALITE            TELEPHONE  id_intermediaire  DATE_CREATION  \n",
       "0         mre     800-778-8075x457                 84    2021-05-14  \n",
       "1         mre  +1-913-505-2118x425                 15    2024-03-27  \n",
       "2         mre         935-921-5809                 13    2021-07-16  \n",
       "3    etranger           4332103507                  2    2023-02-25  \n",
       "4    marocain     001-367-758-8791                 91    2021-01-03  "
      ]
     },
     "execution_count": 17,
     "metadata": {},
     "output_type": "execute_result"
    }
   ],
   "source": [
    "df_clients.head()"
   ]
  },
  {
   "cell_type": "code",
   "execution_count": 18,
   "id": "f4771203-ed35-4110-b0bd-c7e8530018c2",
   "metadata": {},
   "outputs": [
    {
     "data": {
      "text/html": [
       "<div>\n",
       "<style scoped>\n",
       "    .dataframe tbody tr th:only-of-type {\n",
       "        vertical-align: middle;\n",
       "    }\n",
       "\n",
       "    .dataframe tbody tr th {\n",
       "        vertical-align: top;\n",
       "    }\n",
       "\n",
       "    .dataframe thead th {\n",
       "        text-align: right;\n",
       "    }\n",
       "</style>\n",
       "<table border=\"1\" class=\"dataframe\">\n",
       "  <thead>\n",
       "    <tr style=\"text-align: right;\">\n",
       "      <th></th>\n",
       "      <th>ID_CONTROLE</th>\n",
       "      <th>DATA</th>\n",
       "      <th>DIM_CONTROLE</th>\n",
       "      <th>DATE_CONTROLE</th>\n",
       "    </tr>\n",
       "  </thead>\n",
       "  <tbody>\n",
       "    <tr>\n",
       "      <th>0</th>\n",
       "      <td>1.0</td>\n",
       "      <td>NOM</td>\n",
       "      <td>COMPLETUDE</td>\n",
       "      <td>23-10-24</td>\n",
       "    </tr>\n",
       "    <tr>\n",
       "      <th>1</th>\n",
       "      <td>2.0</td>\n",
       "      <td>PRENOM</td>\n",
       "      <td>COMPLETUDE</td>\n",
       "      <td>23-10-24</td>\n",
       "    </tr>\n",
       "    <tr>\n",
       "      <th>2</th>\n",
       "      <td>3.0</td>\n",
       "      <td>CIN</td>\n",
       "      <td>COMPLETUDE</td>\n",
       "      <td>23-10-24</td>\n",
       "    </tr>\n",
       "    <tr>\n",
       "      <th>3</th>\n",
       "      <td>4.0</td>\n",
       "      <td>CARTE_SEJOUR</td>\n",
       "      <td>COMPLETUDE</td>\n",
       "      <td>23-10-24</td>\n",
       "    </tr>\n",
       "    <tr>\n",
       "      <th>4</th>\n",
       "      <td>5.0</td>\n",
       "      <td>VILLE</td>\n",
       "      <td>COMPLETUDE</td>\n",
       "      <td>23-10-24</td>\n",
       "    </tr>\n",
       "  </tbody>\n",
       "</table>\n",
       "</div>"
      ],
      "text/plain": [
       "   ID_CONTROLE          DATA DIM_CONTROLE DATE_CONTROLE\n",
       "0          1.0           NOM   COMPLETUDE      23-10-24\n",
       "1          2.0        PRENOM   COMPLETUDE      23-10-24\n",
       "2          3.0           CIN   COMPLETUDE      23-10-24\n",
       "3          4.0  CARTE_SEJOUR   COMPLETUDE      23-10-24\n",
       "4          5.0         VILLE   COMPLETUDE      23-10-24"
      ]
     },
     "execution_count": 18,
     "metadata": {},
     "output_type": "execute_result"
    }
   ],
   "source": [
    "df_controles.head()"
   ]
  },
  {
   "cell_type": "markdown",
   "id": "995fb83e-f732-4768-9c3b-49bee2287d9f",
   "metadata": {},
   "source": [
    "### table resultat validite de la colonne nom"
   ]
  },
  {
   "cell_type": "code",
   "execution_count": 19,
   "id": "6ae9fe91-2bd5-442d-bf60-ac14dd674f8d",
   "metadata": {},
   "outputs": [],
   "source": [
    "import pandas as pd\n",
    "import re\n",
    "\n",
    "def valider_chaine(chaine):\n",
    "    if isinstance(chaine, str) and chaine:\n",
    "        if not re.search(r'\\s', chaine) and not re.search(r'\\d', chaine) and re.search(r'^[A-Za-z]+$', chaine):\n",
    "            return 1\n",
    "    return 0\n"
   ]
  },
  {
   "cell_type": "code",
   "execution_count": null,
   "id": "817ae167-dc1a-433e-829c-cb58db809459",
   "metadata": {},
   "outputs": [],
   "source": [
    "df_val_nom = df_clients[['id_client']].copy()\n",
    "df_val_nom['result'] = df_clients['nom'].apply(valider_chaine) \n",
    "\n",
    "max_id = df_controles['id_controle'].max()\n",
    "df_val_nom['id_controle'] = max_id + 1 \n"
   ]
  },
  {
   "cell_type": "code",
   "execution_count": null,
   "id": "802c5006-3335-4ff4-a75c-89ac7a6460fe",
   "metadata": {},
   "outputs": [],
   "source": [
    "df_val_nom.to_sql('df_val_nom', con=engine_silver, if_exists='replace', index=False)"
   ]
  },
  {
   "cell_type": "markdown",
   "id": "8159dcf2-1815-43ac-b578-3e52b66284f4",
   "metadata": {},
   "source": [
    "### remplissage de la table des controles"
   ]
  },
  {
   "cell_type": "code",
   "execution_count": null,
   "id": "89afc123-fd55-479a-8618-66eff5de1526",
   "metadata": {},
   "outputs": [],
   "source": [
    "id_controle = df_controles['id_controle'].max() + 1\n",
    "data = \"nom\"\n",
    "dim_controle = \"validite\"\n",
    "\n",
    "nouvelles_lignes = [[id_controle, data, dim_controle, date_controle]]\n",
    "nouvelle_ligne_df = pd.DataFrame(nouvelles_lignes, columns=['id_controle', 'data', 'dim_controle', 'date_controle'])\n",
    "df_controles = pd.concat([df_controles, nouvelle_ligne_df], ignore_index=True)"
   ]
  },
  {
   "cell_type": "markdown",
   "id": "3d55c3d1-79ef-4426-a15d-72500558b224",
   "metadata": {},
   "source": [
    "### table resultat validite de la colonne prenom"
   ]
  },
  {
   "cell_type": "code",
   "execution_count": null,
   "id": "313b87d2-9066-4a30-b4c1-99b527c5cb5f",
   "metadata": {},
   "outputs": [],
   "source": [
    "df_val_prenom = df_clients[['id_client']].copy()\n",
    "df_val_prenom['result'] = df_clients['prenom'].apply(valider_chaine) \n",
    "\n",
    "max_id = df_controles['id_controle'].max()\n",
    "df_val_prenom['id_controle'] = max_id + 1 \n"
   ]
  },
  {
   "cell_type": "code",
   "execution_count": null,
   "id": "b51f1bfa-1277-4c9f-8db0-7866488b517a",
   "metadata": {},
   "outputs": [],
   "source": [
    "df_val_prenom.to_sql('df_val_prenom', con=engine_silver, if_exists='replace', index=False)"
   ]
  },
  {
   "cell_type": "markdown",
   "id": "669cb0e3-630b-4152-8bc0-63d6a43c0e37",
   "metadata": {},
   "source": [
    "### remplissage de la table des controles"
   ]
  },
  {
   "cell_type": "code",
   "execution_count": null,
   "id": "84c159dd-93a0-45aa-a8f9-1b55d73b25b9",
   "metadata": {},
   "outputs": [],
   "source": [
    "id_controle = df_controles['id_controle'].max() + 1\n",
    "data = \"prenom\"\n",
    "dim_controle = \"validite\"\n",
    "\n",
    "nouvelles_lignes = [[id_controle, data, dim_controle, date_controle]]\n",
    "nouvelle_ligne_df = pd.DataFrame(nouvelles_lignes, columns=['id_controle', 'data', 'dim_controle', 'date_controle'])\n",
    "df_controles = pd.concat([df_controles, nouvelle_ligne_df], ignore_index=True)"
   ]
  },
  {
   "cell_type": "markdown",
   "id": "63794231-7525-497f-9aa0-1c880ee8b8c8",
   "metadata": {},
   "source": [
    "### table resultat validite de la colonne cin"
   ]
  },
  {
   "cell_type": "code",
   "execution_count": null,
   "id": "c36ca01a-1d10-44d7-bd82-e4569f69910a",
   "metadata": {},
   "outputs": [],
   "source": [
    "import re\n",
    "import pandas as pd\n",
    "import numpy as np  \n",
    "\n",
    "def valider_cin(cin):\n",
    "    \n",
    "    if pd.isnull(cin):\n",
    "        return 0 \n",
    "    \n",
    "    \n",
    "    if isinstance(cin, str) and re.match(r'^[A-Za-z]{1,2}\\d{6}$', cin):\n",
    "        return 1 \n",
    "    return 0 \n"
   ]
  },
  {
   "cell_type": "code",
   "execution_count": null,
   "id": "158fdbd5-8cee-4a23-857b-33fe7cf32fba",
   "metadata": {},
   "outputs": [],
   "source": [
    "df_val_cin = df_clients[['id_client']].copy()\n",
    "df_val_cin['result'] = df_clients['cin'].apply(valider_cin) \n",
    "\n",
    "max_id = df_controles['id_controle'].max()\n",
    "df_val_cin['id_controle'] = max_id + 1 \n"
   ]
  },
  {
   "cell_type": "code",
   "execution_count": null,
   "id": "c77e8177-05f6-4557-b799-2e129296acc8",
   "metadata": {},
   "outputs": [],
   "source": [
    "df_val_cin.to_sql('df_val_cin', con=engine_silver, if_exists='replace', index=False)"
   ]
  },
  {
   "cell_type": "markdown",
   "id": "b255f971-0e6f-4014-8c1b-e115c24c38e9",
   "metadata": {},
   "source": [
    "### remplissage de la table des controles"
   ]
  },
  {
   "cell_type": "code",
   "execution_count": null,
   "id": "188ec33f-c3a9-4679-a6d6-1ad1d76032b0",
   "metadata": {},
   "outputs": [],
   "source": [
    "id_controle = df_controles['id_controle'].max() + 1\n",
    "data = \"cin\"\n",
    "dim_controle = \"validite\"\n",
    "\n",
    "nouvelles_lignes = [[id_controle, data, dim_controle, date_controle]]\n",
    "nouvelle_ligne_df = pd.DataFrame(nouvelles_lignes, columns=['id_controle', 'data', 'dim_controle', 'date_controle'])\n",
    "df_controles = pd.concat([df_controles, nouvelle_ligne_df], ignore_index=True)"
   ]
  },
  {
   "cell_type": "markdown",
   "id": "ec0b1756-c5de-41e0-bc44-143a99713f88",
   "metadata": {},
   "source": [
    "### table resultat validite de la colonne carte sejour"
   ]
  },
  {
   "cell_type": "code",
   "execution_count": null,
   "id": "f012cc84-44e3-4e9a-98de-1017f3cf731f",
   "metadata": {},
   "outputs": [],
   "source": [
    "import re\n",
    "import pandas as pd\n",
    "import numpy as np  \n",
    "\n",
    "def valider_carte_sejour(carte):\n",
    "   \n",
    "    if pd.isnull(carte):\n",
    "        return 0 \n",
    "    \n",
    "   \n",
    "    if isinstance(carte, str) and re.match(r'^\\d{1,10}$', carte):\n",
    "        return 1 \n",
    "    return 0  \n"
   ]
  },
  {
   "cell_type": "code",
   "execution_count": null,
   "id": "c13287f7-0abf-40a4-b954-e4fbefa4380c",
   "metadata": {},
   "outputs": [],
   "source": [
    "df_val_carte_sejour = df_clients[['id_client']].copy()\n",
    "df_val_carte_sejour['result'] = df_clients['carte_sejour'].apply(valider_carte_sejour) \n",
    "\n",
    "max_id = df_controles['id_controle'].max()\n",
    "df_val_carte_sejour['id_controle'] = max_id + 1 \n"
   ]
  },
  {
   "cell_type": "code",
   "execution_count": null,
   "id": "b26f5025-3c04-49d3-977c-ab71ef42836d",
   "metadata": {},
   "outputs": [],
   "source": [
    "df_val_carte_sejour.to_sql('df_val_carte_sejour', con=engine_silver, if_exists='replace', index=False)"
   ]
  },
  {
   "cell_type": "markdown",
   "id": "58217ff4-8cda-49f7-92b9-08902f9b4670",
   "metadata": {},
   "source": [
    "### remplissage de la table des controles"
   ]
  },
  {
   "cell_type": "code",
   "execution_count": null,
   "id": "69a014d1-f36d-4bba-af26-0e1147a4f2c0",
   "metadata": {},
   "outputs": [],
   "source": [
    "id_controle = df_controles['id_controle'].max() + 1\n",
    "data = \"carte_sejour\"\n",
    "dim_controle = \"validite\"\n",
    "\n",
    "nouvelles_lignes = [[id_controle, data, dim_controle, date_controle]]\n",
    "nouvelle_ligne_df = pd.DataFrame(nouvelles_lignes, columns=['id_controle', 'data', 'dim_controle', 'date_controle'])\n",
    "df_controles = pd.concat([df_controles, nouvelle_ligne_df], ignore_index=True)"
   ]
  },
  {
   "cell_type": "markdown",
   "id": "c3b03937-df39-4940-a0c2-f6586c18e7f4",
   "metadata": {},
   "source": [
    "### table resultat validite de la colonne ville"
   ]
  },
  {
   "cell_type": "code",
   "execution_count": null,
   "id": "9e683a99-a53c-4b35-88e3-53c12b4f84f3",
   "metadata": {},
   "outputs": [],
   "source": [
    "import re\n",
    "import pandas as pd\n",
    "import numpy as np  \n",
    "def valider_ville(ville):\n",
    "\n",
    "    if pd.isnull(ville):\n",
    "        return 0  \n",
    "    \n",
    "\n",
    "    ville = ville.strip().lower()\n",
    "    \n",
    "   \n",
    "    if re.match(r'^[a-z]+( [a-z]+)*$', ville):\n",
    "        return 1 \n",
    "    return 0  \n"
   ]
  },
  {
   "cell_type": "code",
   "execution_count": null,
   "id": "6ce83f28-5999-4579-9389-070ce8200ca7",
   "metadata": {},
   "outputs": [],
   "source": [
    "df_val_ville = df_clients[['id_client']].copy()\n",
    "df_val_ville['result'] = df_clients['ville'].apply(valider_ville) \n",
    "\n",
    "max_id = df_controles['id_controle'].max()\n",
    "df_val_ville['id_controle'] = max_id + 1 \n"
   ]
  },
  {
   "cell_type": "code",
   "execution_count": null,
   "id": "08c857e3-3284-4ee4-b2cb-59a44923ffc3",
   "metadata": {},
   "outputs": [],
   "source": [
    "df_val_ville.to_sql('df_val_ville', con=engine_silver, if_exists='replace', index=False)"
   ]
  },
  {
   "cell_type": "markdown",
   "id": "3b1326ab-ff58-422f-876c-d641aa7c6b34",
   "metadata": {},
   "source": [
    "### remplissage de la table des controles"
   ]
  },
  {
   "cell_type": "code",
   "execution_count": null,
   "id": "525b5db5-8777-4095-9041-8ad7f61707cd",
   "metadata": {},
   "outputs": [],
   "source": [
    "id_controle = df_controles['id_controle'].max() + 1\n",
    "data = \"ville\"\n",
    "dim_controle = \"validite\"\n",
    "\n",
    "nouvelles_lignes = [[id_controle, data, dim_controle, date_controle]]\n",
    "nouvelle_ligne_df = pd.DataFrame(nouvelles_lignes, columns=['id_controle', 'data', 'dim_controle', 'date_controle'])\n",
    "df_controles = pd.concat([df_controles, nouvelle_ligne_df], ignore_index=True)"
   ]
  },
  {
   "cell_type": "markdown",
   "id": "33de0620-0e8e-4746-9299-ee8c7ae57b82",
   "metadata": {},
   "source": [
    "### table resultat validite de la colonne telephone"
   ]
  },
  {
   "cell_type": "code",
   "execution_count": null,
   "id": "88dd1fb3-5765-4723-a708-02578477603e",
   "metadata": {},
   "outputs": [],
   "source": [
    "import re\n",
    "import pandas as pd\n",
    "\n",
    "def valider_telephone(numero):\n",
    "\n",
    "    if pd.isnull(numero):\n",
    "        return 0  \n",
    "    \n",
    " \n",
    "    if re.match(r'^\\+?[0-9()]*$', numero):\n",
    "        return 1  \n",
    "    return 0  \n"
   ]
  },
  {
   "cell_type": "code",
   "execution_count": null,
   "id": "2e29ed40-467a-494b-902b-3e4236b9b8e6",
   "metadata": {},
   "outputs": [],
   "source": [
    "df_val_telephone = df_clients[['id_client']].copy()\n",
    "df_val_telephone['result'] = df_clients['telephone'].apply(valider_telephone) \n",
    "\n",
    "max_id = df_controles['id_controle'].max()\n",
    "df_val_telephone['id_controle'] = max_id + 1 \n"
   ]
  },
  {
   "cell_type": "code",
   "execution_count": null,
   "id": "054631d8-fa48-4b22-8a36-bc607cd79712",
   "metadata": {},
   "outputs": [],
   "source": [
    "df_val_telephone.to_sql('df_val_telephone', con=engine_silver, if_exists='replace', index=False)"
   ]
  },
  {
   "cell_type": "markdown",
   "id": "0f4e8231-a7b9-497d-8921-563ab3602e69",
   "metadata": {},
   "source": [
    "### remplissage de la table des controles"
   ]
  },
  {
   "cell_type": "code",
   "execution_count": null,
   "id": "db2b249c-319e-459c-868d-dbc423d0bb98",
   "metadata": {},
   "outputs": [],
   "source": [
    "id_controle = df_controles['id_controle'].max() + 1\n",
    "data = \"telephone\"\n",
    "dim_controle = \"validite\"\n",
    "\n",
    "nouvelles_lignes = [[id_controle, data, dim_controle, date_controle]]\n",
    "nouvelle_ligne_df = pd.DataFrame(nouvelles_lignes, columns=['id_controle', 'data', 'dim_controle', 'date_controle'])\n",
    "df_controles = pd.concat([df_controles, nouvelle_ligne_df], ignore_index=True)"
   ]
  },
  {
   "cell_type": "code",
   "execution_count": null,
   "id": "5c8c57db",
   "metadata": {},
   "outputs": [],
   "source": [
    "df_controles.to_sql('controles', con=engine_silver, if_exists='append', index=False)"
   ]
  }
 ],
 "metadata": {
  "kernelspec": {
   "display_name": "Python 3 (ipykernel)",
   "language": "python",
   "name": "python3"
  },
  "language_info": {
   "codemirror_mode": {
    "name": "ipython",
    "version": 3
   },
   "file_extension": ".py",
   "mimetype": "text/x-python",
   "name": "python",
   "nbconvert_exporter": "python",
   "pygments_lexer": "ipython3",
   "version": "3.11.6"
  }
 },
 "nbformat": 4,
 "nbformat_minor": 5
}
