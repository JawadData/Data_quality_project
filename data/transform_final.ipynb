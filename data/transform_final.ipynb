{
 "cells": [
  {
   "cell_type": "code",
   "execution_count": null,
   "metadata": {},
   "outputs": [],
   "source": [
    "import pandas as pd\n",
    "from datetime import datetime\n",
    "from sqlalchemy import create_engine\n",
    "\n",
    "\n",
    "aujourdhui = datetime.now()\n",
    "date_controle = aujourdhui.strftime('%d-%m-%y')\n",
    "\n",
    "\n",
    "user = 'airflow'\n",
    "password = 'airflow'\n",
    "host = 'postgres'\n",
    "port = '5432'  \n",
    "database_silver = 'silver'\n",
    "database_gold = 'gold'\n",
    "\n",
    "db_url_silver = f\"postgresql://{user}:{password}@{host}:{port}/{database_silver}\"\n",
    "engine_silver= create_engine(db_url_silver)\n",
    "\n",
    "db_url_gold = f\"postgresql://{user}:{password}@{host}:{port}/{database_gold}\"\n",
    "engine_gold= create_engine(db_url_gold)\n",
    "\n",
    "df_controles = pd.read_sql(\"SELECT DISTINCT * FROM controles\", con=engine_silver)\n",
    "\n"
   ]
  },
  {
   "cell_type": "code",
   "execution_count": null,
   "metadata": {},
   "outputs": [],
   "source": [
    "\n",
    "import pandas as pd\n",
    "\n",
    "df_final = pd.DataFrame(columns=['result', 'id_controle', 'id_client'])\n",
    "\n",
    "table_names = [\n",
    "    \"df_comp_nom\", \"df_comp_prenom\", \"df_comp_cin\", \"df_comp_carte_sejour\", \"df_comp_ville\", \"df_comp_telephone\",\n",
    "    \"df_val_nom\", \"df_val_prenom\", \"df_val_cin\", \"df_val_carte_sejour\", \"df_val_ville\", \"df_val_telephone\",\n",
    "    \"df_co_cin_natio\", \"df_co_cin_carteSejour\", \"df_co_nom_prenom\", \"df_un_cin_nom_prenom\",\n",
    "    \"df_un_carte_nom_prenom\", \"df_un_tele_nom_prenom\"\n",
    "]\n",
    "\n",
    "for tab in table_names:\n",
    "\n",
    "    df = pd.read_sql(f\"SELECT result, id_controle, id_client FROM {tab}\", con=engine_silver)\n",
    "    \n",
    "    df_final = pd.concat([df_final, df], ignore_index=True)"
   ]
  },
  {
   "cell_type": "code",
   "execution_count": null,
   "metadata": {},
   "outputs": [],
   "source": [
    "df_final.head(20)"
   ]
  },
  {
   "cell_type": "code",
   "execution_count": null,
   "metadata": {},
   "outputs": [],
   "source": [
    "df_final.to_sql('resultat_final', con=engine_gold, if_exists='replace', index=False)"
   ]
  },
  {
   "cell_type": "code",
   "execution_count": null,
   "metadata": {},
   "outputs": [],
   "source": [
    "df_controles.to_sql('controles', con=engine_gold, if_exists='replace', index=False)"
   ]
  }
 ],
 "metadata": {
  "kernelspec": {
   "display_name": "Python 3",
   "language": "python",
   "name": "python3"
  },
  "language_info": {
   "name": "python",
   "version": "3.10.9"
  }
 },
 "nbformat": 4,
 "nbformat_minor": 2
}
