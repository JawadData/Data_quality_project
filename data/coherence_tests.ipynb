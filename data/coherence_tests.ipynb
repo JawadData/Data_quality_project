{
 "cells": [
  {
   "cell_type": "code",
   "execution_count": null,
   "id": "b03d175c-3b78-47c8-aec4-b95099fedcad",
   "metadata": {},
   "outputs": [],
   "source": [
    "import pandas as pd\n",
    "from datetime import datetime\n",
    "from sqlalchemy import create_engine\n",
    "\n",
    "\n",
    "aujourdhui = datetime.now()\n",
    "date_controle = aujourdhui.strftime('%d-%m-%y')\n",
    "\n",
    "\n",
    "user = 'airflow'\n",
    "password = 'airflow'\n",
    "host = 'postgres'\n",
    "port = '5432'  \n",
    "database_bronze = 'bronze'\n",
    "database_silver = 'silver'\n",
    "\n",
    "db_url_bronze = f\"postgresql://{user}:{password}@{host}:{port}/{database_bronze}\"\n",
    "engine_bronze = create_engine(db_url_bronze)\n",
    "\n",
    "db_url_silver = f\"postgresql://{user}:{password}@{host}:{port}/{database_silver}\"\n",
    "engine_silver= create_engine(db_url_silver)\n",
    "\n",
    "\n",
    "df_clients = pd.read_sql(\"SELECT * FROM clients\", con=engine_bronze)\n",
    "df_controles = pd.read_sql(\"SELECT * FROM controles\", con=engine_silver)\n"
   ]
  },
  {
   "cell_type": "code",
   "execution_count": 2,
   "id": "ff856bec-b746-4d46-84b7-1f4b0a9f5f3f",
   "metadata": {},
   "outputs": [
    {
     "data": {
      "text/html": [
       "<div>\n",
       "<style scoped>\n",
       "    .dataframe tbody tr th:only-of-type {\n",
       "        vertical-align: middle;\n",
       "    }\n",
       "\n",
       "    .dataframe tbody tr th {\n",
       "        vertical-align: top;\n",
       "    }\n",
       "\n",
       "    .dataframe thead th {\n",
       "        text-align: right;\n",
       "    }\n",
       "</style>\n",
       "<table border=\"1\" class=\"dataframe\">\n",
       "  <thead>\n",
       "    <tr style=\"text-align: right;\">\n",
       "      <th></th>\n",
       "      <th>ID_CLIENT</th>\n",
       "      <th>NOM</th>\n",
       "      <th>PRENOM</th>\n",
       "      <th>CIN</th>\n",
       "      <th>CARTE_SEJOUR</th>\n",
       "      <th>VILLE</th>\n",
       "      <th>NATIONALITE</th>\n",
       "      <th>TELEPHONE</th>\n",
       "      <th>id_intermediaire</th>\n",
       "      <th>DATE_CREATION</th>\n",
       "    </tr>\n",
       "  </thead>\n",
       "  <tbody>\n",
       "    <tr>\n",
       "      <th>0</th>\n",
       "      <td>lu1cldwMLx</td>\n",
       "      <td>Hicks</td>\n",
       "      <td>Dawn</td>\n",
       "      <td>SJ109379</td>\n",
       "      <td>OL118027</td>\n",
       "      <td>None</td>\n",
       "      <td>mre</td>\n",
       "      <td>800-778-8075x457</td>\n",
       "      <td>84</td>\n",
       "      <td>2021-05-14</td>\n",
       "    </tr>\n",
       "    <tr>\n",
       "      <th>1</th>\n",
       "      <td>k8N4sn4YJb</td>\n",
       "      <td>Wolfe</td>\n",
       "      <td>Kimberly</td>\n",
       "      <td>B136474</td>\n",
       "      <td>O499923</td>\n",
       "      <td>North Alishaport</td>\n",
       "      <td>mre</td>\n",
       "      <td>+1-913-505-2118x425</td>\n",
       "      <td>15</td>\n",
       "      <td>2024-03-27</td>\n",
       "    </tr>\n",
       "    <tr>\n",
       "      <th>2</th>\n",
       "      <td>6qzPbzht3H</td>\n",
       "      <td>Burch</td>\n",
       "      <td>Isabel3@</td>\n",
       "      <td>KX010301</td>\n",
       "      <td>HM264290</td>\n",
       "      <td>North Eric`</td>\n",
       "      <td>mre</td>\n",
       "      <td>935-921-5809</td>\n",
       "      <td>13</td>\n",
       "      <td>2021-07-16</td>\n",
       "    </tr>\n",
       "    <tr>\n",
       "      <th>3</th>\n",
       "      <td>KZPbHdxc1a</td>\n",
       "      <td>None</td>\n",
       "      <td>Matthew</td>\n",
       "      <td>YT977001</td>\n",
       "      <td>OI901480</td>\n",
       "      <td>South Kenneth</td>\n",
       "      <td>etranger</td>\n",
       "      <td>4332103507</td>\n",
       "      <td>2</td>\n",
       "      <td>2023-02-25</td>\n",
       "    </tr>\n",
       "    <tr>\n",
       "      <th>4</th>\n",
       "      <td>3KaFE6Zhq9</td>\n",
       "      <td>Roth=#</td>\n",
       "      <td>None</td>\n",
       "      <td>EB353024</td>\n",
       "      <td>B240907</td>\n",
       "      <td>None</td>\n",
       "      <td>marocain</td>\n",
       "      <td>001-367-758-8791</td>\n",
       "      <td>91</td>\n",
       "      <td>2021-01-03</td>\n",
       "    </tr>\n",
       "  </tbody>\n",
       "</table>\n",
       "</div>"
      ],
      "text/plain": [
       "    ID_CLIENT     NOM    PRENOM       CIN CARTE_SEJOUR             VILLE  \\\n",
       "0  lu1cldwMLx   Hicks      Dawn  SJ109379     OL118027              None   \n",
       "1  k8N4sn4YJb   Wolfe  Kimberly   B136474      O499923  North Alishaport   \n",
       "2  6qzPbzht3H   Burch  Isabel3@  KX010301     HM264290       North Eric`   \n",
       "3  KZPbHdxc1a    None   Matthew  YT977001     OI901480     South Kenneth   \n",
       "4  3KaFE6Zhq9  Roth=#      None  EB353024      B240907              None   \n",
       "\n",
       "  NATIONALITE            TELEPHONE  id_intermediaire  DATE_CREATION  \n",
       "0         mre     800-778-8075x457                 84    2021-05-14  \n",
       "1         mre  +1-913-505-2118x425                 15    2024-03-27  \n",
       "2         mre         935-921-5809                 13    2021-07-16  \n",
       "3    etranger           4332103507                  2    2023-02-25  \n",
       "4    marocain     001-367-758-8791                 91    2021-01-03  "
      ]
     },
     "execution_count": 2,
     "metadata": {},
     "output_type": "execute_result"
    }
   ],
   "source": [
    "df_clients.head()"
   ]
  },
  {
   "cell_type": "code",
   "execution_count": 3,
   "id": "0b15d780-4f74-4253-8e4e-42f0e9c3a00e",
   "metadata": {},
   "outputs": [
    {
     "data": {
      "text/html": [
       "<div>\n",
       "<style scoped>\n",
       "    .dataframe tbody tr th:only-of-type {\n",
       "        vertical-align: middle;\n",
       "    }\n",
       "\n",
       "    .dataframe tbody tr th {\n",
       "        vertical-align: top;\n",
       "    }\n",
       "\n",
       "    .dataframe thead th {\n",
       "        text-align: right;\n",
       "    }\n",
       "</style>\n",
       "<table border=\"1\" class=\"dataframe\">\n",
       "  <thead>\n",
       "    <tr style=\"text-align: right;\">\n",
       "      <th></th>\n",
       "      <th>ID_CONTROLE</th>\n",
       "      <th>DATA</th>\n",
       "      <th>DIM_CONTROLE</th>\n",
       "      <th>DATE_CONTROLE</th>\n",
       "    </tr>\n",
       "  </thead>\n",
       "  <tbody>\n",
       "  </tbody>\n",
       "</table>\n",
       "</div>"
      ],
      "text/plain": [
       "Empty DataFrame\n",
       "Columns: [ID_CONTROLE, DATA, DIM_CONTROLE, DATE_CONTROLE]\n",
       "Index: []"
      ]
     },
     "execution_count": 3,
     "metadata": {},
     "output_type": "execute_result"
    }
   ],
   "source": [
    "df_controles.head()"
   ]
  },
  {
   "cell_type": "markdown",
   "id": "936506dd-7119-43e2-a019-f1571d4d235f",
   "metadata": {},
   "source": [
    "### table resultat coherence entre la colonne CIN et NATIONALITE"
   ]
  },
  {
   "cell_type": "code",
   "execution_count": null,
   "id": "939e3043-e5ca-4167-880d-50e957666140",
   "metadata": {},
   "outputs": [],
   "source": [
    "def tester_coherence_cin_nationalite(row):\n",
    "    cin = row['cin']\n",
    "    nationalite = row['nationalite']\n",
    "    \n",
    "    if cin and nationalite.lower() == \"marocain\":\n",
    "        return 1\n",
    "    return 0"
   ]
  },
  {
   "cell_type": "code",
   "execution_count": null,
   "id": "666598b3-69bb-43e8-b9dc-ec12576efc92",
   "metadata": {},
   "outputs": [],
   "source": [
    "df_co_cin_natio = df_clients[['id_client']].copy()\n",
    "df_co_cin_natio['result'] = df_clients.apply(tester_coherence_cin_nationalite, axis=1)\n",
    "\n",
    "\n",
    "max_id = df_controles['id_controle'].max()\n",
    "df_co_cin_natio['id_controle'] = max_id + 1"
   ]
  },
  {
   "cell_type": "code",
   "execution_count": null,
   "id": "27c6e09f-09c0-46c5-a3c1-dbc8c719c7be",
   "metadata": {},
   "outputs": [],
   "source": [
    "df_co_cin_natio.to_sql('df_co_cin_natio', con=engine_silver, if_exists='replace', index=False)"
   ]
  },
  {
   "cell_type": "markdown",
   "id": "c901cd01-bd9b-4ccb-95ff-7a163c5edc6f",
   "metadata": {},
   "source": [
    "### remplissage de la table des controles"
   ]
  },
  {
   "cell_type": "code",
   "execution_count": null,
   "id": "e4dcbe47-7a37-4caa-8bb8-f0a37f89d2f1",
   "metadata": {},
   "outputs": [],
   "source": [
    "id_controle = df_controles['id_controle'].max() + 1\n",
    "data = \"cin_nationalite\"\n",
    "dim_controle = \"coherence\"\n",
    "\n",
    "nouvelles_lignes = [[id_controle, data, dim_controle, date_controle]]\n",
    "nouvelle_ligne_df = pd.DataFrame(nouvelles_lignes, columns=['id_controle', 'data', 'dim_controle', 'date_controle'])\n",
    "df_controles = pd.concat([df_controles, nouvelle_ligne_df], ignore_index=True)"
   ]
  },
  {
   "cell_type": "markdown",
   "id": "87975c0d-a536-4111-af1c-56add678e1c7",
   "metadata": {},
   "source": [
    "### table resultat coherence entre la colonne CIN et CARTE_SEJOUR"
   ]
  },
  {
   "cell_type": "code",
   "execution_count": null,
   "id": "ec57252d-8bc5-4bfc-837c-7132512e6e95",
   "metadata": {},
   "outputs": [],
   "source": [
    "def tester_coherence_cin_carte_sejour(row):\n",
    "    cin = row['cin']\n",
    "    carte_sejour = row['carte_sejour']\n",
    "    if (cin and carte_sejour) or (not cin and not carte_sejour):\n",
    "        return 0 \n",
    "    return 1 "
   ]
  },
  {
   "cell_type": "code",
   "execution_count": null,
   "id": "4c96022a-2257-4471-8db8-769864a57312",
   "metadata": {},
   "outputs": [],
   "source": [
    "df_co_cin_carteSejour = df_clients[['id_client']].copy()\n",
    "df_co_cin_carteSejour['result'] = df_clients.apply(tester_coherence_cin_carte_sejour, axis=1)\n",
    "\n",
    "\n",
    "max_id = df_controles['id_controle'].max()\n",
    "df_co_cin_carteSejour['id_controle'] = max_id + 1"
   ]
  },
  {
   "cell_type": "code",
   "execution_count": null,
   "id": "e4e1ea43-ae66-4340-a10e-cc1c890bd7e1",
   "metadata": {},
   "outputs": [],
   "source": [
    "df_co_cin_carteSejour.to_sql('df_co_cin_carteSejour', con=engine_silver, if_exists='replace', index=False)"
   ]
  },
  {
   "cell_type": "markdown",
   "id": "1181e7b4-5f68-4a74-9f6b-54179a24339a",
   "metadata": {},
   "source": [
    "### remplissage de la table des controles"
   ]
  },
  {
   "cell_type": "code",
   "execution_count": null,
   "id": "73abb5e3-4c7e-461f-a092-8a722a7b9422",
   "metadata": {},
   "outputs": [],
   "source": [
    "id_controle = df_controles['id_controle'].max() + 1\n",
    "data = \"cin_carte_sejour\"\n",
    "dim_controle = \"coherence\"\n",
    "\n",
    "nouvelles_lignes = [[id_controle, data, dim_controle, date_controle]]\n",
    "nouvelle_ligne_df = pd.DataFrame(nouvelles_lignes, columns=['id_controle', 'data', 'dim_controle', 'date_controle'])\n",
    "df_controles = pd.concat([df_controles, nouvelle_ligne_df], ignore_index=True)"
   ]
  },
  {
   "cell_type": "markdown",
   "id": "d49f352d-f82d-489c-9a70-43774b05cf5a",
   "metadata": {},
   "source": [
    "### table resultat coherence entre la colonne nom et prenom"
   ]
  },
  {
   "cell_type": "code",
   "execution_count": null,
   "id": "e897d2c8-15d9-4732-bdd7-bd8514229b76",
   "metadata": {},
   "outputs": [],
   "source": [
    "import pandas as pd\n",
    "\n",
    "def tester_coherence_nom_prenom(row):\n",
    "    nom = row['nom']\n",
    "    prenom = row['prenom']\n",
    "\n",
    "    if pd.isnull(nom) or pd.isnull(prenom):\n",
    "        return 0  \n",
    "    \n",
    "    if prenom in nom.split() or nom in prenom.split():\n",
    "        return 0  \n",
    "    return 1  \n"
   ]
  },
  {
   "cell_type": "code",
   "execution_count": null,
   "id": "029516e9-4113-4f42-9aed-e0913ed7aff7",
   "metadata": {},
   "outputs": [],
   "source": [
    "df_co_nom_prenom = df_clients[['id_client']].copy()\n",
    "df_co_nom_prenom['result'] = df_clients.apply(tester_coherence_nom_prenom, axis=1)\n",
    "\n",
    "max_id = df_controles['id_controle'].max()\n",
    "df_co_nom_prenom['id_controle'] = max_id + 1"
   ]
  },
  {
   "cell_type": "code",
   "execution_count": null,
   "id": "92e64211-0077-4654-bb78-123b60b2685c",
   "metadata": {},
   "outputs": [],
   "source": [
    "df_co_nom_prenom.to_sql('df_co_nom_prenom', con=engine_silver, if_exists='replace', index=False)"
   ]
  },
  {
   "cell_type": "markdown",
   "id": "f36f42a8-6823-4e8b-aa78-60a04a38517e",
   "metadata": {},
   "source": [
    "### remplissage de la table des controles"
   ]
  },
  {
   "cell_type": "code",
   "execution_count": null,
   "id": "f5314dd5-687d-4392-b15d-c35d7dd5e996",
   "metadata": {},
   "outputs": [],
   "source": [
    "id_controle = df_controles['id_controle'].max() + 1\n",
    "data = \"nom_prenom\"\n",
    "dim_controle = \"coherence\"\n",
    "\n",
    "nouvelles_lignes = [[id_controle, data, dim_controle, date_controle]]\n",
    "nouvelle_ligne_df = pd.DataFrame(nouvelles_lignes, columns=['id_controle', 'data', 'dim_controle', 'date_controle'])\n",
    "df_controles = pd.concat([df_controles, nouvelle_ligne_df], ignore_index=True)"
   ]
  },
  {
   "cell_type": "code",
   "execution_count": null,
   "id": "755792c5",
   "metadata": {},
   "outputs": [],
   "source": [
    "df_controles.to_sql('controles', con=engine_silver, if_exists='append', index=False)"
   ]
  }
 ],
 "metadata": {
  "kernelspec": {
   "display_name": "Python 3 (ipykernel)",
   "language": "python",
   "name": "python3"
  },
  "language_info": {
   "codemirror_mode": {
    "name": "ipython",
    "version": 3
   },
   "file_extension": ".py",
   "mimetype": "text/x-python",
   "name": "python",
   "nbconvert_exporter": "python",
   "pygments_lexer": "ipython3",
   "version": "3.11.6"
  }
 },
 "nbformat": 4,
 "nbformat_minor": 5
}
