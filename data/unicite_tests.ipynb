{
 "cells": [
  {
   "cell_type": "code",
   "execution_count": null,
   "id": "30e0e715-c95c-400c-9106-24c0677daa5b",
   "metadata": {},
   "outputs": [],
   "source": [
    "import pandas as pd\n",
    "from datetime import datetime\n",
    "from sqlalchemy import create_engine\n",
    "\n",
    "aujourdhui = datetime.now()\n",
    "date_controle = aujourdhui.strftime('%d-%m-%y')\n",
    "\n",
    "\n",
    "user = 'airflow'\n",
    "password = 'airflow'\n",
    "host = 'postgres'\n",
    "port = '5432' \n",
    "database_bronze = 'bronze'\n",
    "database_silver = 'silver'\n",
    "\n",
    "db_url_bronze = f\"postgresql://{user}:{password}@{host}:{port}/{database_bronze}\"\n",
    "engine_bronze = create_engine(db_url_bronze)\n",
    "\n",
    "db_url_silver = f\"postgresql://{user}:{password}@{host}:{port}/{database_silver}\"\n",
    "engine_silver= create_engine(db_url_silver)\n",
    "\n",
    "\n",
    "df_clients = pd.read_sql(\"SELECT * FROM clients\", con=engine_bronze)\n",
    "df_controles = pd.read_sql(\"SELECT * FROM controles\", con=engine_silver)\n"
   ]
  },
  {
   "cell_type": "code",
   "execution_count": 2,
   "id": "6003def7-0d1f-48d0-bc68-3f065a7e0d1f",
   "metadata": {},
   "outputs": [
    {
     "data": {
      "text/html": [
       "<div>\n",
       "<style scoped>\n",
       "    .dataframe tbody tr th:only-of-type {\n",
       "        vertical-align: middle;\n",
       "    }\n",
       "\n",
       "    .dataframe tbody tr th {\n",
       "        vertical-align: top;\n",
       "    }\n",
       "\n",
       "    .dataframe thead th {\n",
       "        text-align: right;\n",
       "    }\n",
       "</style>\n",
       "<table border=\"1\" class=\"dataframe\">\n",
       "  <thead>\n",
       "    <tr style=\"text-align: right;\">\n",
       "      <th></th>\n",
       "      <th>ID_CLIENT</th>\n",
       "      <th>NOM</th>\n",
       "      <th>PRENOM</th>\n",
       "      <th>CIN</th>\n",
       "      <th>CARTE_SEJOUR</th>\n",
       "      <th>VILLE</th>\n",
       "      <th>NATIONALITE</th>\n",
       "      <th>TELEPHONE</th>\n",
       "      <th>id_intermediaire</th>\n",
       "      <th>DATE_CREATION</th>\n",
       "    </tr>\n",
       "  </thead>\n",
       "  <tbody>\n",
       "    <tr>\n",
       "      <th>0</th>\n",
       "      <td>lu1cldwMLx</td>\n",
       "      <td>Hicks</td>\n",
       "      <td>Dawn</td>\n",
       "      <td>SJ109379</td>\n",
       "      <td>OL118027</td>\n",
       "      <td>None</td>\n",
       "      <td>mre</td>\n",
       "      <td>800-778-8075x457</td>\n",
       "      <td>84</td>\n",
       "      <td>2021-05-14</td>\n",
       "    </tr>\n",
       "    <tr>\n",
       "      <th>1</th>\n",
       "      <td>k8N4sn4YJb</td>\n",
       "      <td>Wolfe</td>\n",
       "      <td>Kimberly</td>\n",
       "      <td>B136474</td>\n",
       "      <td>O499923</td>\n",
       "      <td>North Alishaport</td>\n",
       "      <td>mre</td>\n",
       "      <td>+1-913-505-2118x425</td>\n",
       "      <td>15</td>\n",
       "      <td>2024-03-27</td>\n",
       "    </tr>\n",
       "    <tr>\n",
       "      <th>2</th>\n",
       "      <td>6qzPbzht3H</td>\n",
       "      <td>Burch</td>\n",
       "      <td>Isabel3@</td>\n",
       "      <td>KX010301</td>\n",
       "      <td>HM264290</td>\n",
       "      <td>North Eric`</td>\n",
       "      <td>mre</td>\n",
       "      <td>935-921-5809</td>\n",
       "      <td>13</td>\n",
       "      <td>2021-07-16</td>\n",
       "    </tr>\n",
       "    <tr>\n",
       "      <th>3</th>\n",
       "      <td>KZPbHdxc1a</td>\n",
       "      <td>None</td>\n",
       "      <td>Matthew</td>\n",
       "      <td>YT977001</td>\n",
       "      <td>OI901480</td>\n",
       "      <td>South Kenneth</td>\n",
       "      <td>etranger</td>\n",
       "      <td>4332103507</td>\n",
       "      <td>2</td>\n",
       "      <td>2023-02-25</td>\n",
       "    </tr>\n",
       "    <tr>\n",
       "      <th>4</th>\n",
       "      <td>3KaFE6Zhq9</td>\n",
       "      <td>Roth=#</td>\n",
       "      <td>None</td>\n",
       "      <td>EB353024</td>\n",
       "      <td>B240907</td>\n",
       "      <td>None</td>\n",
       "      <td>marocain</td>\n",
       "      <td>001-367-758-8791</td>\n",
       "      <td>91</td>\n",
       "      <td>2021-01-03</td>\n",
       "    </tr>\n",
       "  </tbody>\n",
       "</table>\n",
       "</div>"
      ],
      "text/plain": [
       "    ID_CLIENT     NOM    PRENOM       CIN CARTE_SEJOUR             VILLE  \\\n",
       "0  lu1cldwMLx   Hicks      Dawn  SJ109379     OL118027              None   \n",
       "1  k8N4sn4YJb   Wolfe  Kimberly   B136474      O499923  North Alishaport   \n",
       "2  6qzPbzht3H   Burch  Isabel3@  KX010301     HM264290       North Eric`   \n",
       "3  KZPbHdxc1a    None   Matthew  YT977001     OI901480     South Kenneth   \n",
       "4  3KaFE6Zhq9  Roth=#      None  EB353024      B240907              None   \n",
       "\n",
       "  NATIONALITE            TELEPHONE  id_intermediaire  DATE_CREATION  \n",
       "0         mre     800-778-8075x457                 84    2021-05-14  \n",
       "1         mre  +1-913-505-2118x425                 15    2024-03-27  \n",
       "2         mre         935-921-5809                 13    2021-07-16  \n",
       "3    etranger           4332103507                  2    2023-02-25  \n",
       "4    marocain     001-367-758-8791                 91    2021-01-03  "
      ]
     },
     "execution_count": 2,
     "metadata": {},
     "output_type": "execute_result"
    }
   ],
   "source": [
    "df_clients.head()"
   ]
  },
  {
   "cell_type": "code",
   "execution_count": 3,
   "id": "dcc33dab-83d4-422f-be76-2709a85d34e3",
   "metadata": {},
   "outputs": [
    {
     "data": {
      "text/html": [
       "<div>\n",
       "<style scoped>\n",
       "    .dataframe tbody tr th:only-of-type {\n",
       "        vertical-align: middle;\n",
       "    }\n",
       "\n",
       "    .dataframe tbody tr th {\n",
       "        vertical-align: top;\n",
       "    }\n",
       "\n",
       "    .dataframe thead th {\n",
       "        text-align: right;\n",
       "    }\n",
       "</style>\n",
       "<table border=\"1\" class=\"dataframe\">\n",
       "  <thead>\n",
       "    <tr style=\"text-align: right;\">\n",
       "      <th></th>\n",
       "      <th>ID_CONTROLE</th>\n",
       "      <th>DATA</th>\n",
       "      <th>DIM_CONTROLE</th>\n",
       "      <th>DATE_CONTROLE</th>\n",
       "    </tr>\n",
       "  </thead>\n",
       "  <tbody>\n",
       "  </tbody>\n",
       "</table>\n",
       "</div>"
      ],
      "text/plain": [
       "Empty DataFrame\n",
       "Columns: [ID_CONTROLE, DATA, DIM_CONTROLE, DATE_CONTROLE]\n",
       "Index: []"
      ]
     },
     "execution_count": 3,
     "metadata": {},
     "output_type": "execute_result"
    }
   ],
   "source": [
    "df_controles.head()"
   ]
  },
  {
   "cell_type": "markdown",
   "id": "6a201118-57f1-4f6e-b1bf-4578d532cd10",
   "metadata": {},
   "source": [
    "### table resultat unicite de la colonne cin , nom, et prenom"
   ]
  },
  {
   "cell_type": "code",
   "execution_count": null,
   "id": "4388b393-3a83-4d8e-9b1d-34c7a5954aee",
   "metadata": {},
   "outputs": [],
   "source": [
    "def tester_unicite_cin_nom_prenom(row):\n",
    "    cin = row['cin']\n",
    "    nom = row['nom']\n",
    "    prenom = row['prenom']\n",
    "\n",
    "    count = df_clients[\n",
    "        (df_clients['cin'] == cin) & \n",
    "        ((df_clients['nom'] != nom) | (df_clients['prenom'] != prenom))\n",
    "    ].shape[0]\n",
    "    \n",
    "    if count > 0:\n",
    "        return 0  \n",
    "    return 1  \n"
   ]
  },
  {
   "cell_type": "code",
   "execution_count": null,
   "id": "b3d7ac34-d40d-4147-93a4-86b3bc602387",
   "metadata": {},
   "outputs": [],
   "source": [
    "df_UN_cin_nom_prenom = df_clients[['id_client']].copy()\n",
    "df_UN_cin_nom_prenom['result'] = df_clients.apply(tester_unicite_cin_nom_prenom, axis=1)\n",
    "\n",
    "max_id = df_controles['id_controle'].max()\n",
    "df_UN_cin_nom_prenom['id_controle'] = max_id + 1"
   ]
  },
  {
   "cell_type": "code",
   "execution_count": null,
   "id": "c0e0e15b",
   "metadata": {},
   "outputs": [],
   "source": [
    "df_UN_cin_nom_prenom.head()"
   ]
  },
  {
   "cell_type": "code",
   "execution_count": null,
   "id": "3c249f06-3862-43b9-b096-15c437a918a7",
   "metadata": {},
   "outputs": [],
   "source": [
    "df_UN_cin_nom_prenom.to_sql('df_un_cin_nom_prenom', con=engine_silver, if_exists='replace', index=False)"
   ]
  },
  {
   "cell_type": "markdown",
   "id": "3ee5a183-1066-4d46-9cb9-346bc312b399",
   "metadata": {},
   "source": [
    "### remplissage de la table des controles"
   ]
  },
  {
   "cell_type": "code",
   "execution_count": null,
   "id": "261c63d2-9e8a-4a6a-b61e-78fbdade9be3",
   "metadata": {},
   "outputs": [],
   "source": [
    "id_controle = df_controles['id_controle'].max() + 1\n",
    "data = \"cin_nom_prenom\"\n",
    "dim_controle = \"unicite\"\n",
    "\n",
    "nouvelles_lignes = [[id_controle, data, dim_controle, date_controle]]\n",
    "nouvelle_ligne_df = pd.DataFrame(nouvelles_lignes, columns=['id_controle', 'data', 'dim_controle', 'date_controle'])\n",
    "df_controles = pd.concat([df_controles, nouvelle_ligne_df], ignore_index=True)"
   ]
  },
  {
   "cell_type": "markdown",
   "id": "7d4170c7-ecdf-4c14-9628-90969a8fd058",
   "metadata": {},
   "source": [
    "### table resultat unicite de la colonne carte sejour , nom, et prenom"
   ]
  },
  {
   "cell_type": "code",
   "execution_count": null,
   "id": "64b65707-c2a9-4a10-a069-20129bd82c5f",
   "metadata": {},
   "outputs": [],
   "source": [
    "def tester_unicite_carte_nom_prenom(row):\n",
    "    carte_sejour = row['carte_sejour']\n",
    "    nom = row['nom']\n",
    "    prenom = row['prenom']\n",
    "    \n",
    " \n",
    "    count = df_clients[\n",
    "        (df_clients['carte_sejour'] == carte_sejour) & \n",
    "        ((df_clients['nom'] != nom) | (df_clients['prenom'] != prenom))\n",
    "    ].shape[0]\n",
    "    \n",
    "    if count > 0:\n",
    "        return 0  \n",
    "    return 1  \n"
   ]
  },
  {
   "cell_type": "code",
   "execution_count": null,
   "id": "8b2d4e48-65ed-4dd6-81dc-a67a6a50ae87",
   "metadata": {},
   "outputs": [],
   "source": [
    "df_UN_carte_nom_prenom = df_clients[['id_client']].copy()\n",
    "df_UN_carte_nom_prenom['result'] = df_clients.apply(tester_unicite_carte_nom_prenom, axis=1)\n",
    "\n",
    "\n",
    "max_id = df_controles['id_controle'].max()\n",
    "df_UN_carte_nom_prenom['id_controle'] = max_id + 1\n"
   ]
  },
  {
   "cell_type": "code",
   "execution_count": null,
   "id": "6b0b6043-c63e-4bec-b54c-d0c8fdeca8e5",
   "metadata": {},
   "outputs": [],
   "source": [
    "df_UN_carte_nom_prenom.to_sql('df_un_carte_nom_prenom', con=engine_silver, if_exists='replace', index=False)"
   ]
  },
  {
   "cell_type": "markdown",
   "id": "d04a1a19-e193-40f5-a714-38cb28c827ce",
   "metadata": {},
   "source": [
    "### remplissage de la table des controles"
   ]
  },
  {
   "cell_type": "code",
   "execution_count": null,
   "id": "ce4ee7c4-777a-4429-a295-9bb6110bfd3e",
   "metadata": {},
   "outputs": [],
   "source": [
    "id_controle = df_controles['id_controle'].max() + 1\n",
    "data = \"carte_sejour_nom_prenom\"\n",
    "dim_controle = \"unicite\"\n",
    "\n",
    "nouvelles_lignes = [[id_controle, data, dim_controle, date_controle]]\n",
    "nouvelle_ligne_df = pd.DataFrame(nouvelles_lignes, columns=['id_controle', 'data', 'dim_controle', 'date_controle'])\n",
    "df_controles = pd.concat([df_controles, nouvelle_ligne_df], ignore_index=True)"
   ]
  },
  {
   "cell_type": "markdown",
   "id": "6bbc25ba-cafd-4d98-834e-e8b0bf9c8976",
   "metadata": {},
   "source": [
    "### table resultat unicite de la colonne telephone , nom, et prenom"
   ]
  },
  {
   "cell_type": "code",
   "execution_count": null,
   "id": "2d7c2258-5f5f-46ab-b9f5-3143d0e9fca8",
   "metadata": {},
   "outputs": [],
   "source": [
    "def tester_unicite_tele_nom_prenom(row):\n",
    "    telephone = row['telephone']\n",
    "    nom = row['nom']\n",
    "    prenom = row['prenom']\n",
    "\n",
    "    count = df_clients[\n",
    "        (df_clients['telephone'] == telephone) & \n",
    "        ((df_clients['nom'] != nom) | (df_clients['prenom'] != prenom))\n",
    "    ].shape[0]\n",
    "    \n",
    "    if count > 0:\n",
    "        return 0\n",
    "    return 1  \n"
   ]
  },
  {
   "cell_type": "code",
   "execution_count": null,
   "id": "fe1b1be0-675c-40f0-846c-f79d431d8d2d",
   "metadata": {},
   "outputs": [],
   "source": [
    "df_UN_tele_nom_prenom = df_clients[['id_client']].copy()\n",
    "df_UN_tele_nom_prenom['result'] = df_clients.apply(tester_unicite_tele_nom_prenom, axis=1)\n",
    "\n",
    "\n",
    "max_id = df_controles['id_controle'].max()\n",
    "df_UN_tele_nom_prenom['id_controle'] = max_id + 1\n"
   ]
  },
  {
   "cell_type": "code",
   "execution_count": null,
   "id": "40af7f60-fa07-44ae-90fd-bb8d8834f2d0",
   "metadata": {},
   "outputs": [],
   "source": [
    "df_UN_tele_nom_prenom.to_sql('df_un_tele_nom_prenom', con=engine_silver, if_exists='replace', index=False)"
   ]
  },
  {
   "cell_type": "markdown",
   "id": "f07eaf60-4001-4e07-9db0-3d2eb6c9cc8d",
   "metadata": {},
   "source": [
    "### remplissage de la table des controles"
   ]
  },
  {
   "cell_type": "code",
   "execution_count": null,
   "id": "6fcd70bb-a935-47fc-86e8-7fc2539d79b7",
   "metadata": {},
   "outputs": [],
   "source": [
    "id_controle = df_controles['id_controle'].max() + 1\n",
    "data = \"telephone_nom_prenom\"\n",
    "dim_controle = \"unicite\"\n",
    "\n",
    "nouvelles_lignes = [[id_controle, data, dim_controle, date_controle]]\n",
    "nouvelle_ligne_df = pd.DataFrame(nouvelles_lignes, columns=['id_controle', 'data', 'dim_controle', 'date_controle'])\n",
    "df_controles = pd.concat([df_controles, nouvelle_ligne_df], ignore_index=True)"
   ]
  },
  {
   "cell_type": "code",
   "execution_count": null,
   "id": "96bf6624",
   "metadata": {},
   "outputs": [],
   "source": [
    "df_controles.to_sql('controles', con=engine_silver, if_exists='append', index=False)"
   ]
  }
 ],
 "metadata": {
  "kernelspec": {
   "display_name": "Python 3 (ipykernel)",
   "language": "python",
   "name": "python3"
  },
  "language_info": {
   "codemirror_mode": {
    "name": "ipython",
    "version": 3
   },
   "file_extension": ".py",
   "mimetype": "text/x-python",
   "name": "python",
   "nbconvert_exporter": "python",
   "pygments_lexer": "ipython3",
   "version": "3.9.13"
  }
 },
 "nbformat": 4,
 "nbformat_minor": 5
}
